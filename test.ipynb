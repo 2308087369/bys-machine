{
 "cells": [
  {
   "cell_type": "code",
   "execution_count": 1,
   "metadata": {},
   "outputs": [],
   "source": [
    "import sys\n",
    "import numpy as np \n",
    "import pandas as pd\n",
    "import warnings\n",
    "warnings.filterwarnings('ignore')\n",
    "\n",
    "import matplotlib.pyplot as plt\n",
    "from copy import deepcopy\n",
    "from ipywidgets import IntProgress\n",
    "from IPython.display import display\n",
    "sys.path.append('./ggbobo-machine-scientist')\n",
    "sys.path.append('./ggbobo-machine-scientist/Prior/')\n",
    "from mcmc import *\n",
    "from parallel import *\n",
    "from fit_prior import read_prior_par\n",
    "\n",
    "# ========== 3. 生成合成数据（y = x1^2 + log(x2) + 高斯噪声） ==========\n",
    "np.random.seed(42)\n",
    "x1 = np.random.uniform(-2, 2, 500)\n",
    "x2 = np.random.uniform(0.1, 2, 500)  # 避免 log(0) 错误\n",
    "true_y = x1**2 + np.log(x2)\n",
    "noise = np.random.normal(0, 0.1, 500)  # 高斯噪声\n",
    "y_noisy = true_y + noise\n"
   ]
  },
  {
   "cell_type": "code",
   "execution_count": 2,
   "metadata": {},
   "outputs": [
    {
     "ename": "FileNotFoundError",
     "evalue": "[Errno 2] No such file or directory: './Prior/final_prior_param_sq.named_equations.nv13.np13.2016-09-01 17_05_57.196882.dat'",
     "output_type": "error",
     "traceback": [
      "\u001b[1;31m---------------------------------------------------------------------------\u001b[0m",
      "\u001b[1;31mFileNotFoundError\u001b[0m                         Traceback (most recent call last)",
      "Cell \u001b[1;32mIn[2], line 5\u001b[0m\n\u001b[0;32m      2\u001b[0m data \u001b[38;5;241m=\u001b[39m pd\u001b[38;5;241m.\u001b[39mDataFrame({\u001b[38;5;124m'\u001b[39m\u001b[38;5;124mx1\u001b[39m\u001b[38;5;124m'\u001b[39m: x1, \u001b[38;5;124m'\u001b[39m\u001b[38;5;124mx2\u001b[39m\u001b[38;5;124m'\u001b[39m: x2, \u001b[38;5;124m'\u001b[39m\u001b[38;5;124my\u001b[39m\u001b[38;5;124m'\u001b[39m: y_noisy})\n\u001b[0;32m      4\u001b[0m \u001b[38;5;66;03m# ========== 4. 读取先验参数 ==========\u001b[39;00m\n\u001b[1;32m----> 5\u001b[0m prior_par \u001b[38;5;241m=\u001b[39m \u001b[43mread_prior_par\u001b[49m\u001b[43m(\u001b[49m\u001b[38;5;124;43m'\u001b[39;49m\u001b[38;5;124;43m./Prior/final_prior_param_sq.named_equations.nv13.np13.2016-09-01 17_05_57.196882.dat\u001b[39;49m\u001b[38;5;124;43m'\u001b[39;49m\u001b[43m)\u001b[49m\n",
      "File \u001b[1;32me:\\Pythonworkshop\\Equation_Bys\\machine-scientist\\ggbobo-machine-scientist/Prior\\fit_prior.py:112\u001b[0m, in \u001b[0;36mread_prior_par\u001b[1;34m(inFileName)\u001b[0m\n\u001b[0;32m    111\u001b[0m \u001b[38;5;28;01mdef\u001b[39;00m\u001b[38;5;250m \u001b[39m\u001b[38;5;21mread_prior_par\u001b[39m(inFileName):\n\u001b[1;32m--> 112\u001b[0m     \u001b[38;5;28;01mwith\u001b[39;00m \u001b[38;5;28;43mopen\u001b[39;49m\u001b[43m(\u001b[49m\u001b[43minFileName\u001b[49m\u001b[43m)\u001b[49m \u001b[38;5;28;01mas\u001b[39;00m inf:\n\u001b[0;32m    113\u001b[0m         lines \u001b[38;5;241m=\u001b[39m inf\u001b[38;5;241m.\u001b[39mreadlines()\n\u001b[0;32m    114\u001b[0m     ppar \u001b[38;5;241m=\u001b[39m \u001b[38;5;28mdict\u001b[39m(\u001b[38;5;28mlist\u001b[39m(\u001b[38;5;28mzip\u001b[39m(lines[\u001b[38;5;241m0\u001b[39m]\u001b[38;5;241m.\u001b[39mstrip()\u001b[38;5;241m.\u001b[39msplit()[\u001b[38;5;241m1\u001b[39m:],\n\u001b[0;32m    115\u001b[0m                     [\u001b[38;5;28mfloat\u001b[39m(x) \u001b[38;5;28;01mfor\u001b[39;00m x \u001b[38;5;129;01min\u001b[39;00m lines[\u001b[38;5;241m-\u001b[39m\u001b[38;5;241m1\u001b[39m]\u001b[38;5;241m.\u001b[39mstrip()\u001b[38;5;241m.\u001b[39msplit()[\u001b[38;5;241m1\u001b[39m:]])))\n",
      "\u001b[1;31mFileNotFoundError\u001b[0m: [Errno 2] No such file or directory: './Prior/final_prior_param_sq.named_equations.nv13.np13.2016-09-01 17_05_57.196882.dat'"
     ]
    }
   ],
   "source": [
    "\n",
    "# 组织 DataFrame\n",
    "data = pd.DataFrame({'x1': x1, 'x2': x2, 'y': y_noisy})\n",
    "\n",
    "# ========== 4. 读取先验参数 ==========\n",
    "prior_par = read_prior_par('./Prior/final_prior_param_sq.named_equations.nv13.np13.2016-09-01 17_05_57.196882.dat')\n"
   ]
  },
  {
   "cell_type": "code",
   "execution_count": null,
   "metadata": {},
   "outputs": [],
   "source": [
    "\n",
    "# ========== 5. 设定 MCMC 参数 ==========\n",
    "Ts = [1] + [1.04**k for k in range(1, 20)]  # 温度参数\n",
    "variables = ['x1', 'x2']\n",
    "parameters = ['a%d' % i for i in range(5)]  # 假设最多 5 个参数\n",
    "\n",
    "# ========== 6. 初始化 Bayesian 机器科学家 ==========\n",
    "pms = Parallel(\n",
    "    Ts,\n",
    "    variables=variables,\n",
    "    parameters=parameters,\n",
    "    x=data[['x1', 'x2']], \n",
    "    y=data['y'],\n",
    "    prior_par=prior_par,\n",
    ")\n",
    "\n",
    "# ========== 7. 执行 MCMC 采样（第一阶段，初步优化） ==========\n",
    "nstep = 100\n",
    "f = IntProgress(min=0, max=nstep, description='Running:')\n",
    "display(f)\n",
    "\n",
    "for i in range(nstep):\n",
    "    pms.mcmc_step()\n",
    "    pms.tree_swap()\n",
    "    f.value += 1\n",
    "\n",
    "# ========== 8. 继续 MCMC 采样（第二阶段，深入优化） ==========\n",
    "nstep = 3000\n",
    "f = IntProgress(min=0, max=nstep, description='Running:')\n",
    "display(f)\n",
    "\n",
    "description_lengths, mdl, mdl_model = [], np.inf, None\n",
    "\n",
    "for i in range(nstep):\n",
    "    pms.mcmc_step()\n",
    "    pms.tree_swap()\n",
    "    \n",
    "    description_lengths.append(pms.t1.E)\n",
    "    \n",
    "    if pms.t1.E < mdl:\n",
    "        mdl, mdl_model = pms.t1.E, deepcopy(pms.t1)\n",
    "\n",
    "    f.value += 1\n",
    "\n",
    "# ========== 9. 输出最优模型 ==========\n",
    "print('Best model:\\t', mdl_model)\n",
    "print('Desc. length:\\t', mdl)\n",
    "\n",
    "# ========== 10. 绘制 MCMC 过程中的描述长度收敛情况 ==========\n",
    "plt.figure(figsize=(15, 5))\n",
    "plt.plot(description_lengths)\n",
    "plt.xlabel('MCMC step', fontsize=14)\n",
    "plt.ylabel('Description length', fontsize=14)\n",
    "plt.title('MDL model: $%s$' % mdl_model.latex())\n",
    "plt.show()\n",
    "\n",
    "# ========== 11. 计算并绘制预测值 vs. 真实值 ==========\n",
    "plt.figure(figsize=(6, 6))\n",
    "plt.scatter(mdl_model.predict(data[['x1', 'x2']]), data['y'])\n",
    "plt.plot((-6, 6), (-6, 6), 'r--')  # 对角线\n",
    "plt.xlabel('MDL model predictions', fontsize=14)\n",
    "plt.ylabel('Actual values', fontsize=14)\n",
    "plt.show()\n"
   ]
  }
 ],
 "metadata": {
  "kernelspec": {
   "display_name": ".venv",
   "language": "python",
   "name": "python3"
  },
  "language_info": {
   "codemirror_mode": {
    "name": "ipython",
    "version": 3
   },
   "file_extension": ".py",
   "mimetype": "text/x-python",
   "name": "python",
   "nbconvert_exporter": "python",
   "pygments_lexer": "ipython3",
   "version": "3.12.5"
  }
 },
 "nbformat": 4,
 "nbformat_minor": 2
}
